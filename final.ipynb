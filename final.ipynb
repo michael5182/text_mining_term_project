{
 "cells": [
  {
   "cell_type": "code",
   "execution_count": 28,
   "metadata": {},
   "outputs": [],
   "source": [
    "import re # for cleaning Resume_str\n",
    "import pandas as pd"
   ]
  },
  {
   "cell_type": "markdown",
   "metadata": {},
   "source": [
    "### Load file"
   ]
  },
  {
   "cell_type": "code",
   "execution_count": 29,
   "metadata": {},
   "outputs": [],
   "source": [
    "file_path = 'Resume.csv'\n",
    "df = pd.read_csv(file_path)"
   ]
  },
  {
   "cell_type": "markdown",
   "metadata": {},
   "source": [
    "### Data observation"
   ]
  },
  {
   "cell_type": "code",
   "execution_count": 30,
   "metadata": {},
   "outputs": [
    {
     "data": {
      "text/plain": [
       "Index(['ID', 'Resume_str', 'Resume_html', 'Category'], dtype='object')"
      ]
     },
     "execution_count": 30,
     "metadata": {},
     "output_type": "execute_result"
    }
   ],
   "source": [
    "df.columns"
   ]
  },
  {
   "cell_type": "code",
   "execution_count": 31,
   "metadata": {},
   "outputs": [
    {
     "data": {
      "text/plain": [
       "Index(['ID', 'Resume_str', 'Category'], dtype='object')"
      ]
     },
     "execution_count": 31,
     "metadata": {},
     "output_type": "execute_result"
    }
   ],
   "source": [
    "df = df.drop(columns=['Resume_html'])\n",
    "df.columns"
   ]
  },
  {
   "cell_type": "code",
   "execution_count": 32,
   "metadata": {},
   "outputs": [
    {
     "data": {
      "text/html": [
       "<div>\n",
       "<style scoped>\n",
       "    .dataframe tbody tr th:only-of-type {\n",
       "        vertical-align: middle;\n",
       "    }\n",
       "\n",
       "    .dataframe tbody tr th {\n",
       "        vertical-align: top;\n",
       "    }\n",
       "\n",
       "    .dataframe thead th {\n",
       "        text-align: right;\n",
       "    }\n",
       "</style>\n",
       "<table border=\"1\" class=\"dataframe\">\n",
       "  <thead>\n",
       "    <tr style=\"text-align: right;\">\n",
       "      <th></th>\n",
       "      <th>ID</th>\n",
       "      <th>Resume_str</th>\n",
       "      <th>Category</th>\n",
       "    </tr>\n",
       "  </thead>\n",
       "  <tbody>\n",
       "    <tr>\n",
       "      <th>0</th>\n",
       "      <td>16852973</td>\n",
       "      <td>HR ADMINISTRATOR/MARKETING ASSOCIATE\\...</td>\n",
       "      <td>HR</td>\n",
       "    </tr>\n",
       "    <tr>\n",
       "      <th>1</th>\n",
       "      <td>22323967</td>\n",
       "      <td>HR SPECIALIST, US HR OPERATIONS      ...</td>\n",
       "      <td>HR</td>\n",
       "    </tr>\n",
       "    <tr>\n",
       "      <th>2</th>\n",
       "      <td>33176873</td>\n",
       "      <td>HR DIRECTOR       Summary      Over 2...</td>\n",
       "      <td>HR</td>\n",
       "    </tr>\n",
       "    <tr>\n",
       "      <th>3</th>\n",
       "      <td>27018550</td>\n",
       "      <td>HR SPECIALIST       Summary    Dedica...</td>\n",
       "      <td>HR</td>\n",
       "    </tr>\n",
       "    <tr>\n",
       "      <th>4</th>\n",
       "      <td>17812897</td>\n",
       "      <td>HR MANAGER         Skill Highlights  ...</td>\n",
       "      <td>HR</td>\n",
       "    </tr>\n",
       "  </tbody>\n",
       "</table>\n",
       "</div>"
      ],
      "text/plain": [
       "         ID                                         Resume_str Category\n",
       "0  16852973           HR ADMINISTRATOR/MARKETING ASSOCIATE\\...       HR\n",
       "1  22323967           HR SPECIALIST, US HR OPERATIONS      ...       HR\n",
       "2  33176873           HR DIRECTOR       Summary      Over 2...       HR\n",
       "3  27018550           HR SPECIALIST       Summary    Dedica...       HR\n",
       "4  17812897           HR MANAGER         Skill Highlights  ...       HR"
      ]
     },
     "execution_count": 32,
     "metadata": {},
     "output_type": "execute_result"
    }
   ],
   "source": [
    "df.head(5)"
   ]
  },
  {
   "cell_type": "code",
   "execution_count": 33,
   "metadata": {},
   "outputs": [
    {
     "data": {
      "text/plain": [
       "\"         HR ADMINISTRATOR/MARKETING ASSOCIATE\\n\\nHR ADMINISTRATOR       Summary     Dedicated Customer Service Manager with 15+ years of experience in Hospitality and Customer Service Management.   Respected builder and leader of customer-focused teams; strives to instill a shared, enthusiastic commitment to customer service.         Highlights         Focused on customer satisfaction  Team management  Marketing savvy  Conflict resolution techniques     Training and development  Skilled multi-tasker  Client relations specialist           Accomplishments      Missouri DOT Supervisor Training Certification  Certified by IHG in Customer Loyalty and Marketing by Segment   Hilton Worldwide General Manager Training Certification  Accomplished Trainer for cross server hospitality systems such as    Hilton OnQ  ,   Micros    Opera PMS   , Fidelio    OPERA    Reservation System (ORS) ,   Holidex    Completed courses and seminars in customer service, sales strategies, inventory control, loss prevention, safety, time management, leadership and performance assessment.        Experience      HR Administrator/Marketing Associate\\n\\nHR Administrator     Dec 2013   to   Current      Company Name   －   City  ,   State     Helps to develop policies, directs and coordinates activities such as employment, compensation, labor relations, benefits, training, and employee services.  Prepares employee separation notices and related documentation  Keeps records of benefits plans participation such as insurance and pension plan, personnel transactions such as hires, promotions, transfers, performance reviews, and terminations, and employee statistics for government reporting.  Advises management in appropriate resolution of employee relations issues.  Administers benefits programs such as life, health, dental, insurance, pension plans, vacation, sick leave, leave of absence, and employee assistance.     Marketing Associate \\xa0   Designed and created marketing collateral for sales meetings, trade shows and company executives.  Managed the in-house advertising program consisting of print and media collateral pieces.  Assisted in the complete design and launch of the company's website in 2 months.  Created an official company page on Facebook to facilitate interaction with customers.  Analyzed ratings and programming features of competitors to evaluate the effectiveness of marketing strategies.         Advanced Medical Claims Analyst     Mar 2012   to   Dec 2013      Company Name   －   City  ,   State     Reviewed medical bills for the accuracy of the treatments, tests, and hospital stays prior to sanctioning the claims.  Trained to interpret the codes (ICD-9, CPT) and terminology commonly used in medical billing to fully understand the paperwork that is submitted by healthcare providers.  Required to have organizational and analytical skills as well as computer skills, knowledge of medical terminology and procedures, statistics, billing standards, data analysis and laws regarding medical billing.         Assistant General Manager     Jun 2010   to   Dec 2010      Company Name   －   City  ,   State     Performed duties including but not limited to, budgeting and financial management, accounting, human resources, payroll and purchasing.  Established and maintained close working relationships with all departments of the hotel to ensure maximum operation, productivity, morale and guest service.  Handled daily operations and reported directly to the corporate office.  Hired and trained staff on overall objectives and goals with an emphasis on high customer service.  Marketing and Advertising, working on public relations with the media, government and local businesses and Chamber of Commerce.         Executive Support / Marketing Assistant     Jul 2007   to   Jun 2010      Company Name   －   City  ,   State     Provided assistance to various department heads - Executive, Marketing, Customer Service, Human Resources.  Managed front-end operations to ensure friendly and efficient transactions.  Ensured the swift resolution of customer issues to preserve customer loyalty while complying with company policies.  Exemplified the second-to-none customer service delivery in all interactions with customers and potential clients.         Reservation & Front Office Manager     Jun 2004   to   Jul 2007      Company Name   －   City  ,   State          Owner/ Partner     Dec 2001   to   May 2004      Company Name   －   City  ,   State          Price Integrity Coordinator     Aug 1999   to   Dec 2001      Company Name   －   City  ,   State          Education      N/A  ,   Business Administration   1999     Jefferson College   －   City  ,   State       Business Administration  Marketing / Advertising         High School Diploma  ,   College Prep. studies   1998     Sainte Genevieve Senior High   －   City  ,   State       Awarded American Shrubel Leadership Scholarship to Jefferson College         Skills     Accounting, ads, advertising, analytical skills, benefits, billing, budgeting, clients, Customer Service, data analysis, delivery, documentation, employee relations, financial management, government relations, Human Resources, insurance, labor relations, layout, Marketing, marketing collateral, medical billing, medical terminology, office, organizational, payroll, performance reviews, personnel, policies, posters, presentations, public relations, purchasing, reporting, statistics, website.    \""
      ]
     },
     "execution_count": 33,
     "metadata": {},
     "output_type": "execute_result"
    }
   ],
   "source": [
    "df.Resume_str[0]"
   ]
  },
  {
   "cell_type": "code",
   "execution_count": 34,
   "metadata": {},
   "outputs": [
    {
     "name": "stdout",
     "output_type": "stream",
     "text": [
      "<class 'pandas.core.frame.DataFrame'>\n",
      "RangeIndex: 2484 entries, 0 to 2483\n",
      "Data columns (total 3 columns):\n",
      " #   Column      Non-Null Count  Dtype \n",
      "---  ------      --------------  ----- \n",
      " 0   ID          2484 non-null   int64 \n",
      " 1   Resume_str  2484 non-null   object\n",
      " 2   Category    2484 non-null   object\n",
      "dtypes: int64(1), object(2)\n",
      "memory usage: 58.3+ KB\n"
     ]
    }
   ],
   "source": [
    "df.info()"
   ]
  },
  {
   "cell_type": "code",
   "execution_count": 35,
   "metadata": {},
   "outputs": [
    {
     "name": "stdout",
     "output_type": "stream",
     "text": [
      "Number of Category: 24\n",
      "Category\n",
      "ACCOUNTANT                118\n",
      "ADVOCATE                  118\n",
      "AGRICULTURE                63\n",
      "APPAREL                    97\n",
      "ARTS                      103\n",
      "AUTOMOBILE                 36\n",
      "AVIATION                  117\n",
      "BANKING                   115\n",
      "BPO                        22\n",
      "BUSINESS-DEVELOPMENT      120\n",
      "CHEF                      118\n",
      "CONSTRUCTION              112\n",
      "CONSULTANT                115\n",
      "DESIGNER                  107\n",
      "DIGITAL-MEDIA              96\n",
      "ENGINEERING               118\n",
      "FINANCE                   118\n",
      "FITNESS                   117\n",
      "HEALTHCARE                115\n",
      "HR                        110\n",
      "INFORMATION-TECHNOLOGY    120\n",
      "PUBLIC-RELATIONS          111\n",
      "SALES                     116\n",
      "TEACHER                   102\n",
      "dtype: int64\n"
     ]
    }
   ],
   "source": [
    "df_gb = df.groupby('Category')\n",
    "print('Number of Category: {}'.format(df_gb.ngroups))\n",
    "print(df_gb.size())"
   ]
  },
  {
   "cell_type": "markdown",
   "metadata": {},
   "source": [
    "### Preprocess data"
   ]
  },
  {
   "cell_type": "code",
   "execution_count": 36,
   "metadata": {},
   "outputs": [],
   "source": [
    "def clean_spaces(s):\n",
    "    s = ' '.join(re.split('[ ]+', s.strip()))\n",
    "\n",
    "    return s\n",
    "\n",
    "# Todo:\n",
    "# add more preprocess function for preprocessor\n",
    "\n",
    "def preprocessor(df):\n",
    "    df['Resume_str'] = df['Resume_str'].apply(lambda x: clean_spaces(x))\n",
    "\n",
    "    return df"
   ]
  },
  {
   "cell_type": "code",
   "execution_count": 37,
   "metadata": {},
   "outputs": [],
   "source": [
    "df = preprocessor(df)"
   ]
  },
  {
   "cell_type": "markdown",
   "metadata": {},
   "source": [
    "### Map Resume_str to a embedding (vector)"
   ]
  },
  {
   "cell_type": "code",
   "execution_count": 38,
   "metadata": {},
   "outputs": [],
   "source": [
    "import torch\n",
    "from sentence_transformers import SentenceTransformer, util"
   ]
  },
  {
   "cell_type": "code",
   "execution_count": 39,
   "metadata": {},
   "outputs": [
    {
     "name": "stdout",
     "output_type": "stream",
     "text": [
      "(2484, 768)\n"
     ]
    }
   ],
   "source": [
    "model = SentenceTransformer('all-distilroberta-v1')\n",
    "model.max_seq_length = 512\n",
    "\n",
    "# Corpus with resumes\n",
    "Resume_corpus = df['Resume_str'].tolist()\n",
    "\n",
    "# Calculate the embeddng for every resume_str\n",
    "corpus_embeddings = model.encode(Resume_corpus)\n",
    "print(corpus_embeddings.shape)"
   ]
  },
  {
   "cell_type": "markdown",
   "metadata": {},
   "source": [
    "### Apply k-Means clustering on the embeddings"
   ]
  },
  {
   "cell_type": "code",
   "execution_count": 40,
   "metadata": {},
   "outputs": [
    {
     "name": "stdout",
     "output_type": "stream",
     "text": [
      "(2484,)\n"
     ]
    }
   ],
   "source": [
    "import numpy as np\n",
    "from sklearn.cluster import KMeans\n",
    "\n",
    "num_clusters = df.groupby('Category').ngroups # 24\n",
    "clustering_model = KMeans(n_clusters=num_clusters)\n",
    "\n",
    "clustering_model.fit(corpus_embeddings)\n",
    "cluster_assignment = clustering_model.labels_ # Get the clustered label for each embedding\n",
    "print(cluster_assignment.shape)\n",
    "\n",
    "clustered_resumes = [[] for i in range(num_clusters)] # Will contain embeddings for each cluster  \n",
    "for sentence_id, cluster_id in enumerate(cluster_assignment):\n",
    "    clustered_resumes[cluster_id].append(Resume_corpus[sentence_id])"
   ]
  },
  {
   "cell_type": "code",
   "execution_count": 41,
   "metadata": {},
   "outputs": [
    {
     "name": "stdout",
     "output_type": "stream",
     "text": [
      "Number of resumes in each cluster\n",
      "Cluster 1: 47\n",
      "Cluster 2: 82\n",
      "Cluster 3: 41\n",
      "Cluster 4: 190\n",
      "Cluster 5: 204\n",
      "Cluster 6: 133\n",
      "Cluster 7: 131\n",
      "Cluster 8: 105\n",
      "Cluster 9: 116\n",
      "Cluster 10: 98\n",
      "Cluster 11: 137\n",
      "Cluster 12: 53\n",
      "Cluster 13: 107\n",
      "Cluster 14: 86\n",
      "Cluster 15: 95\n",
      "Cluster 16: 92\n",
      "Cluster 17: 143\n",
      "Cluster 18: 105\n",
      "Cluster 19: 103\n",
      "Cluster 20: 72\n",
      "Cluster 21: 34\n",
      "Cluster 22: 118\n",
      "Cluster 23: 100\n",
      "Cluster 24: 92\n"
     ]
    }
   ],
   "source": [
    "print('Number of resumes in each cluster')\n",
    "for i, cluster in enumerate(clustered_resumes):\n",
    "    print('Cluster {}: {}'.format(i+1, len(cluster)))"
   ]
  },
  {
   "cell_type": "code",
   "execution_count": 42,
   "metadata": {},
   "outputs": [],
   "source": [
    "# Todo:\n",
    "# 1. Visualize the clustered result\n",
    "# 2. Try applying other clustering methods\n",
    "# 3. Other stuff that can perform on cluster, e.g. Topic modeling?"
   ]
  },
  {
   "cell_type": "markdown",
   "metadata": {},
   "source": [
    "### Find the cross domain (category) resumes"
   ]
  },
  {
   "cell_type": "code",
   "execution_count": 43,
   "metadata": {},
   "outputs": [],
   "source": [
    "def get_avg_embeddings(df_gb, group_name):\n",
    "    print('Group name: {}'.format(group_name))\n",
    "    df_group = df_gb.get_group(group_name)\n",
    "\n",
    "    # Resume corpus of groups\n",
    "    group_corpus = df_group['Resume_str'].tolist()\n",
    "\n",
    "    group_corpus_embeddings = model.encode(group_corpus, convert_to_tensor=True)\n",
    "    print('Shape of group_corpus_embeddings: {}'.format(group_corpus_embeddings.shape))\n",
    "\n",
    "    group_avg_embedding = torch.mean(group_corpus_embeddings, dim=0, keepdim=True)\n",
    "    print('Shape of group_avg_embeddings: {}'.format(group_avg_embedding.shape))\n",
    "\n",
    "    return group_avg_embedding"
   ]
  },
  {
   "cell_type": "code",
   "execution_count": 44,
   "metadata": {},
   "outputs": [],
   "source": [
    "def search_resumeID(query_embedding, corpus_embeddings, top_k):\n",
    "    hits = util.semantic_search(query_embedding, corpus_embeddings, top_k=top_k)\n",
    "    hits = hits[0]\n",
    "    for hit in hits:\n",
    "        print(df.ID[hit['corpus_id']], \"(Score: {:.4f})\".format(hit['score']))"
   ]
  },
  {
   "cell_type": "code",
   "execution_count": 45,
   "metadata": {},
   "outputs": [
    {
     "name": "stdout",
     "output_type": "stream",
     "text": [
      "Group name: ACCOUNTANT\n",
      "Shape of group_corpus_embeddings: torch.Size([118, 768])\n",
      "Shape of group_avg_embeddings: torch.Size([1, 768])\n",
      "Group name: INFORMATION-TECHNOLOGY\n",
      "Shape of group_corpus_embeddings: torch.Size([120, 768])\n",
      "Shape of group_avg_embeddings: torch.Size([1, 768])\n"
     ]
    }
   ],
   "source": [
    "ACCNT_avg_embedding = get_avg_embeddings(df_gb=df_gb, group_name='ACCOUNTANT')\n",
    "IT_avg_embedding = get_avg_embeddings(df_gb=df_gb, group_name='INFORMATION-TECHNOLOGY')"
   ]
  },
  {
   "cell_type": "code",
   "execution_count": 46,
   "metadata": {},
   "outputs": [
    {
     "name": "stdout",
     "output_type": "stream",
     "text": [
      "27637576 (Score: 0.8978)\n",
      "11441764 (Score: 0.8915)\n",
      "23636277 (Score: 0.8828)\n",
      "22492537 (Score: 0.8826)\n",
      "25127518 (Score: 0.8812)\n"
     ]
    }
   ],
   "source": [
    "query_embedding = (ACCNT_avg_embedding + IT_avg_embedding) / 2\n",
    "search_resumeID(query_embedding, corpus_embeddings, top_k=5)"
   ]
  },
  {
   "cell_type": "code",
   "execution_count": 47,
   "metadata": {},
   "outputs": [],
   "source": [
    "# Todo:\n",
    "# 1. Cross 3 or more domain (categories)\n",
    "# 2. Find qualitative example (we can show in report/presentation)\n",
    "# 3. Other vector (embedding) operation to perform, i.e., other task"
   ]
  }
 ],
 "metadata": {
  "interpreter": {
   "hash": "cd6002ba671f6b90ab33c554052cf090b1185f9b04b2f93f7d99c32c612ef541"
  },
  "kernelspec": {
   "display_name": "Python 3.8.11 64-bit ('torch1.7.1': conda)",
   "language": "python",
   "name": "python3"
  },
  "language_info": {
   "codemirror_mode": {
    "name": "ipython",
    "version": 3
   },
   "file_extension": ".py",
   "mimetype": "text/x-python",
   "name": "python",
   "nbconvert_exporter": "python",
   "pygments_lexer": "ipython3",
   "version": "3.8.11"
  },
  "orig_nbformat": 4
 },
 "nbformat": 4,
 "nbformat_minor": 2
}
